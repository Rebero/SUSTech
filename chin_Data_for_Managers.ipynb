{
 "cells": [
  {
   "cell_type": "markdown",
   "metadata": {
    "hideCode": false,
    "hidePrompt": false,
    "id": "ccRAVackyKLs"
   },
   "source": [
    "# Python机器学习全程模拟教程\n",
    "## 作者：雷内·埃伯（音译）\n",
    "\n",
    "**保密文件-未经作者书面许可，不得复制或转发**\n",
    "\n",
    "\n"
   ]
  },
  {
   "cell_type": "markdown",
   "metadata": {
    "hideCode": false,
    "hidePrompt": false,
    "id": "83OVH_lm0SwI"
   },
   "source": [
    "# 流程图\n"
   ]
  },
  {
   "cell_type": "markdown",
   "metadata": {
    "hideCode": false,
    "hidePrompt": false,
    "id": "U3RJifyUuaGv"
   },
   "source": [
    "![alt text](https://firebasestorage.googleapis.com/v0/b/heccoding.appspot.com/o/chinese_sustech%2FPicture1.png?alt=media&token=9cf26360-4603-4df3-aa09-07f3ced3a3ea)"
   ]
  },
  {
   "cell_type": "markdown",
   "metadata": {
    "hideCode": false,
    "hidePrompt": false,
    "id": "-wVVc-gbBVub"
   },
   "source": [
    "# 步骤1：起步-业务案例/数据集的介绍\n",
    "\n",
    "\n",
    "![alt text](https://firebasestorage.googleapis.com/v0/b/heccoding.appspot.com/o/ambulance.png?alt=media&token=1494f989-3014-495f-a69b-974275793bda)\n",
    "\n",
    "&emsp;\n",
    "\n",
    "**背景:** 某紧急救援公司负责英国所有的道路事故的紧急处理。作为该公司的一名的管理人员或者首席数据科学家，你有责任：\n",
    "  - 派遣救护车到事发地点（例如：车辆碰撞事故）。\n",
    "  - 将伤者送到离事发地点最近的医院。\n",
    "  - 为伤者提供医疗急救服务。\n",
    "\n",
    "一般有两种不同类型的救护车。它们能提供不同范围的医疗急救服务。\n",
    "\n",
    "&emsp;\n",
    "\n",
    "![alt text](https://firebasestorage.googleapis.com/v0/b/heccoding.appspot.com/o/ambulances.png?alt=media&token=79e882b8-ad9f-4ebb-91df-ec06eeb1eb06)\n",
    "\n",
    "&emsp;\n",
    "\n",
    "左图的救护车上只有最基础的医疗设备，适用于救助轻伤病人。\n",
    "\n",
    "右图的救护车可视为是医院的延伸，因为车上有医生和成熟的医疗设备。即使是复杂的医疗操作，如手术，也可以在去医院的路上进行。\n",
    "\n",
    "&emsp;\n",
    "\n",
    "**目标:** 你需要派遣一辆匹配的救护车，因为：\n",
    "  - 这两种类型的救护车的数量都很有限。\n",
    "  - 只有在发生严重或致命事故时，才需派遣配备医疗队的救护车，且该车费用高昂得多。\n",
    "&emsp;\n",
    "\n",
    "**问题:** 在了解事故的严重程度前，你必须决定派遣哪种类型的救护车。\n",
    "\n",
    "&emsp;\n",
    "\n",
    "**解决思路:** 我们希望根据事故报道的可用的数据来预测事故的严重程度。根据这些数据点，我们想要创建一个事故严重程度的预测机制，这样在接到紧急电话后，就可以精准地确定派遣哪种类型的救护车。\n",
    "\n",
    "我们将使用可公开访问的英国车辆碰撞事故数据库来创建预测模型。\n"
   ]
  },
  {
   "cell_type": "markdown",
   "metadata": {
    "hideCode": false,
    "hidePrompt": false,
    "id": "nnCZegCN0mcO"
   },
   "source": [
    "**问题：这是哪种类型的机器学习**\n",
    "\n",
    "![alt text](https://firebasestorage.googleapis.com/v0/b/heccoding.appspot.com/o/chinese_sustech%2FML_types.png?alt=media&token=21816d1e-5070-43b6-9ecd-6ff1f11f3d0f)\n",
    "\n",
    "**作为一名管理人员，目前在流程中所处的位置和关键任务是:**\n",
    "\n",
    "![alt text](https://firebasestorage.googleapis.com/v0/b/heccoding.appspot.com/o/chinese_sustech%2FPicture3.png?alt=media&token=18b18435-15bf-49c3-81ed-c77b085112f1)"
   ]
  },
  {
   "cell_type": "markdown",
   "metadata": {
    "hideCode": false,
    "hidePrompt": false,
    "id": "NhFfKOi4BGds"
   },
   "source": [
    "# 步骤2：预处理"
   ]
  },
  {
   "cell_type": "markdown",
   "metadata": {
    "hideCode": false,
    "hidePrompt": false,
    "id": "R0-pYF6KIibd"
   },
   "source": [
    "**目前在流程中所处的位置:**\n",
    "\n",
    "![alt text](https://firebasestorage.googleapis.com/v0/b/heccoding.appspot.com/o/chinese_sustech%2FPicture4.png?alt=media&token=2669ce41-519c-49aa-8a89-405d98e90918)"
   ]
  },
  {
   "cell_type": "markdown",
   "metadata": {
    "hideCode": false,
    "hidePrompt": false,
    "hide_input": true,
    "id": "RdE7agfm2DXx"
   },
   "source": [
    "首先，我们会导入将在此研讨会中使用的“库”（例如：熊猫数据集）。这些“库”包含了我们将要使用的所有功能。（例如：计算平均值、可视化数据）。\n"
   ]
  },
  {
   "cell_type": "code",
   "execution_count": 19,
   "metadata": {
    "hideCode": true,
    "hidePrompt": false,
    "init_cell": true,
    "remove_cell": true
   },
   "outputs": [
    {
     "data": {
      "application/vnd.jupyter.widget-view+json": {
       "model_id": "7203ce0192a94bcebcf4125c4f4b3324",
       "version_major": 2,
       "version_minor": 0
      },
      "text/plain": [
       "Button(button_style='info', description='Run', style=ButtonStyle())"
      ]
     },
     "metadata": {},
     "output_type": "display_data"
    }
   ],
   "source": [
    "import ipywidgets as widgets\n",
    "from IPython.display import Javascript, display\n",
    "def run_all(ev):\n",
    "    display(Javascript(\"Jupyter.notebook.execute_cells([Jupyter.notebook.get_cell_elements().index(this.element.parents('.cell'))+1]);\"))\n",
    "button = widgets.Button(button_style='info',description=\"Run\")\n",
    "button.on_click(run_all)\n",
    "display(button)"
   ]
  },
  {
   "cell_type": "code",
   "execution_count": null,
   "metadata": {
    "hideCode": false,
    "hidePrompt": false,
    "hide_input": false,
    "id": "JwPDwpXrzjzh"
   },
   "outputs": [],
   "source": [
    "# Loading libraries\n",
    "#!pip install keras\n",
    "#!pip install tensorflow\n",
    "#!pip install seaborn\n",
    "#!pip install sklearn\n",
    "#!pip install matplotlib\n",
    "\n",
    "import os\n",
    "import operator\n",
    "import pandas as pd\n",
    "import numpy as np\n",
    "import matplotlib.pyplot as plt\n",
    "import seaborn as sns\n",
    "import sklearn as sklearn\n",
    "from sklearn.preprocessing import LabelEncoder, MinMaxScaler\n",
    "from sklearn import metrics\n",
    "from sklearn.model_selection import StratifiedShuffleSplit\n",
    "from sklearn.ensemble import RandomForestClassifier\n",
    "from keras.models import Sequential\n",
    "from keras.layers import Dense, Dropout, Activation\n",
    "import warnings; warnings.simplefilter('ignore')\n",
    "import ipywidgets as widgets\n",
    "from IPython.display import clear_output\n",
    "import time\n",
    "sns.set()\n",
    "\n",
    "# Connect to data source\n",
    "! git clone https://github.com/Rebero/Quantgeist\n",
    "time.sleep(10) "
   ]
  },
  {
   "cell_type": "markdown",
   "metadata": {
    "hideCode": false,
    "hidePrompt": false,
    "id": "PmNkMpoY2jMK"
   },
   "source": [
    "&emsp;\n",
    "\n",
    "我们已经准备好导入数据集："
   ]
  },
  {
   "cell_type": "code",
   "execution_count": 20,
   "metadata": {
    "hideCode": true,
    "hidePrompt": false,
    "hide_input": false,
    "init_cell": true
   },
   "outputs": [
    {
     "data": {
      "application/vnd.jupyter.widget-view+json": {
       "model_id": "db75b740660248d1b4a2dc43ff73fa52",
       "version_major": 2,
       "version_minor": 0
      },
      "text/plain": [
       "Button(button_style='info', description='Run', style=ButtonStyle())"
      ]
     },
     "metadata": {},
     "output_type": "display_data"
    }
   ],
   "source": [
    "import ipywidgets as widgets\n",
    "from IPython.display import Javascript, display\n",
    "def run_all(ev):\n",
    "    display(Javascript(\"Jupyter.notebook.execute_cells([Jupyter.notebook.get_cell_elements().index(this.element.parents('.cell'))+1]);\"))\n",
    "button = widgets.Button(button_style='info',description=\"Run\")\n",
    "button.on_click(run_all)\n",
    "display(button)"
   ]
  },
  {
   "cell_type": "code",
   "execution_count": null,
   "metadata": {
    "hideCode": false,
    "hidePrompt": false,
    "id": "sgfAYCAd2hut"
   },
   "outputs": [],
   "source": [
    "# import data from a comma seperated files (csv) file  \n",
    "crash_df = pd.read_csv('Quantgeist/ch_accidents_dataset_corrected.csv')\n",
    "\n",
    "crash_df[\"事故严重程度 Accident_Severity_numerical\"] = crash_df[\"事故严重程度 Accident_Severity\"]\n",
    "# Read from file with number descriptions and replace number with description where possible\n",
    "xls = pd.ExcelFile('Quantgeist/ch_Road-Accident-Safety-Data-Guide.xls')\n",
    "for name in xls.sheet_names: \n",
    "  if name != \"Introduction\" and name != \"Export Variables\":\n",
    "    names_df = pd.read_excel(xls, name)\n",
    "    if name == \"Ped Cross - Human\":\n",
    "      name = \"Pedestrian_Crossing-Human_Control\"\n",
    "    if name == \"Ped Cross - Physical\":\n",
    "      name = \"人行横道-物理设施 Pedestrian_Crossing-Physical_Facilities\"\n",
    "    if name == \"Weather\":\n",
    "      name = \"Weather_Conditions\"\n",
    "    if name == \"Road Surface\":\n",
    "      name = \"Road_Surface_Conditions\"\n",
    "    if name == \"Urban Rural\":\n",
    "      name = \"Urban_or_Rural_Area\"\n",
    "    if name == \"Police Officer Attend\":\n",
    "      name = \"警察是否到达事故现场 Did_Police_Officer_Attend_Scene_of_Accident\"\n",
    "    #name = name.replace(\" \", \"_\")\n",
    "    if name in list(crash_df.columns):\n",
    "      rename_dict = names_df.set_index('code').to_dict()['label']\n",
    "      crash_df[name] = crash_df[name].replace(rename_dict)\n",
    "\n",
    "# remove irrelevant columns\n",
    "crash_df = crash_df.drop(columns=['Location_Easting_OSGR', 'Location_Northing_OSGR', \"Local_Authority_(District)\", \"Local_Authority_(Highway)\", \"LSOA_of_Accident_Location\", \"Police_Force\", \"Accident_Index\", \"1st_Road_Number\",\t\"2nd_Road_Number\", \"Date\",\t\"Time\",\t\"Special_Conditions_at_Site\", \"Carriageway_Hazards\", \"Pedestrian_Crossing-Human_Control\"])"
   ]
  },
  {
   "cell_type": "markdown",
   "metadata": {
    "hideCode": false,
    "hidePrompt": false,
    "id": "8jkAKNuw_CRD"
   },
   "source": [
    "\n",
    "&emsp;\n",
    "\n",
    "想要要获得数据集的第一个汇总，可以查看数据的维度，例如，碰撞事故的频次和报道频次。\n",
    "\n"
   ]
  },
  {
   "cell_type": "code",
   "execution_count": 21,
   "metadata": {
    "hideCode": true,
    "hidePrompt": false,
    "hide_input": false,
    "init_cell": true
   },
   "outputs": [
    {
     "data": {
      "application/vnd.jupyter.widget-view+json": {
       "model_id": "25486f657e7348b19636431b7f8dc467",
       "version_major": 2,
       "version_minor": 0
      },
      "text/plain": [
       "Button(button_style='info', description='Run', style=ButtonStyle())"
      ]
     },
     "metadata": {},
     "output_type": "display_data"
    }
   ],
   "source": [
    "import ipywidgets as widgets\n",
    "from IPython.display import Javascript, display\n",
    "def run_all(ev):\n",
    "    display(Javascript(\"Jupyter.notebook.execute_cells([Jupyter.notebook.get_cell_elements().index(this.element.parents('.cell'))+1]);\"))\n",
    "button = widgets.Button(button_style='info',description=\"Run\")\n",
    "button.on_click(run_all)\n",
    "display(button)"
   ]
  },
  {
   "cell_type": "code",
   "execution_count": null,
   "metadata": {
    "hideCode": false,
    "hidePrompt": false,
    "id": "Qg7AkA4D_M81"
   },
   "outputs": [],
   "source": [
    "# dataframe.size returns the size of our dataset\n",
    "crash_df.size"
   ]
  },
  {
   "cell_type": "markdown",
   "metadata": {
    "hideCode": false,
    "hidePrompt": false,
    "id": "iZL8BMF7KRCG"
   },
   "source": [
    "&emsp;\n",
    "\n",
    "**T任务：我希望你们自己编写代码** 目的是可以看到实际的数据。有一种可以用到的方法称为“head”。请记住我们的数据集名称为“crash_df”。你可以用类似的方法，看看我们上面的数据集是如何生成右上方的crash_df数据集的。 "
   ]
  },
  {
   "cell_type": "code",
   "execution_count": 22,
   "metadata": {
    "hideCode": true,
    "hidePrompt": false,
    "hide_input": false,
    "init_cell": true
   },
   "outputs": [
    {
     "data": {
      "application/vnd.jupyter.widget-view+json": {
       "model_id": "a149a384cb7445909579168b22da43a0",
       "version_major": 2,
       "version_minor": 0
      },
      "text/plain": [
       "Button(button_style='info', description='Run', style=ButtonStyle())"
      ]
     },
     "metadata": {},
     "output_type": "display_data"
    }
   ],
   "source": [
    "import ipywidgets as widgets\n",
    "from IPython.display import Javascript, display\n",
    "def run_all(ev):\n",
    "    display(Javascript(\"Jupyter.notebook.execute_cells([Jupyter.notebook.get_cell_elements().index(this.element.parents('.cell'))+1]);\"))\n",
    "button = widgets.Button(button_style='info',description=\"Run\")\n",
    "button.on_click(run_all)\n",
    "display(button)"
   ]
  },
  {
   "cell_type": "code",
   "execution_count": null,
   "metadata": {
    "hideCode": false,
    "hidePrompt": false,
    "id": "BS-B8-jlB_hI"
   },
   "outputs": [],
   "source": [
    "#你的代码在这里\n",
    "crash_df."
   ]
  },
  {
   "cell_type": "markdown",
   "metadata": {
    "hideCode": false,
    "hidePrompt": false,
    "id": "0wPbPBoUIWLi"
   },
   "source": [
    "&emsp;\n",
    "\n",
    "如果我们将每次事故的经纬度值映射到一个空的坐标系上。**问题：你将会看到什么?**"
   ]
  },
  {
   "cell_type": "code",
   "execution_count": 23,
   "metadata": {
    "hideCode": true,
    "hidePrompt": false,
    "hide_input": false,
    "init_cell": true
   },
   "outputs": [
    {
     "data": {
      "application/vnd.jupyter.widget-view+json": {
       "model_id": "5ad62656556a4b31b195bb17aeaa7132",
       "version_major": 2,
       "version_minor": 0
      },
      "text/plain": [
       "Button(button_style='info', description='Run', style=ButtonStyle())"
      ]
     },
     "metadata": {},
     "output_type": "display_data"
    }
   ],
   "source": [
    "import ipywidgets as widgets\n",
    "from IPython.display import Javascript, display\n",
    "def run_all(ev):\n",
    "    display(Javascript(\"Jupyter.notebook.execute_cells([Jupyter.notebook.get_cell_elements().index(this.element.parents('.cell'))+1]);\"))\n",
    "button = widgets.Button(button_style='info',description=\"Run\")\n",
    "button.on_click(run_all)\n",
    "display(button)"
   ]
  },
  {
   "cell_type": "code",
   "execution_count": null,
   "metadata": {
    "hideCode": false,
    "hidePrompt": false,
    "id": "lPw36f34IShb"
   },
   "outputs": [],
   "source": [
    "# lets map the longitude and latitude \n",
    "fig = crash_df.plot(kind=\"scatter\", x=\"经度 Longitude\", y=\"纬度 Latitude\", alpha=0.6,\n",
    "                   figsize=(18,11),c=\"事故严重程度 Accident_Severity_numerical\", cmap=plt.get_cmap(\"inferno\"), \n",
    "                   colorbar=True,)\n",
    "\n",
    "# remove irrelevant columns\n",
    "crash_df = crash_df.drop(columns=['经度 Longitude', '纬度 Latitude', '事故严重程度 Accident_Severity_numerical'])"
   ]
  },
  {
   "cell_type": "markdown",
   "metadata": {
    "hideCode": false,
    "hidePrompt": false,
    "id": "VtezT-PJZ1_7"
   },
   "source": [
    "&emsp;\n",
    "\n",
    "**问题：-1指的是什么？为什么发生频率那么高?**"
   ]
  },
  {
   "cell_type": "code",
   "execution_count": 24,
   "metadata": {
    "hideCode": true,
    "hidePrompt": false,
    "hide_input": false,
    "init_cell": true
   },
   "outputs": [
    {
     "data": {
      "application/vnd.jupyter.widget-view+json": {
       "model_id": "9d599184079f45828fa4114bdf27eb4a",
       "version_major": 2,
       "version_minor": 0
      },
      "text/plain": [
       "Button(button_style='info', description='Run', style=ButtonStyle())"
      ]
     },
     "metadata": {},
     "output_type": "display_data"
    }
   ],
   "source": [
    "import ipywidgets as widgets\n",
    "from IPython.display import Javascript, display\n",
    "def run_all(ev):\n",
    "    display(Javascript(\"Jupyter.notebook.execute_cells([Jupyter.notebook.get_cell_elements().index(this.element.parents('.cell'))+1]);\"))\n",
    "button = widgets.Button(button_style='info',description=\"Run\")\n",
    "button.on_click(run_all)\n",
    "display(button)"
   ]
  },
  {
   "cell_type": "code",
   "execution_count": null,
   "metadata": {
    "hideCode": false,
    "hidePrompt": false,
    "id": "K7OZ_8ekxd9N"
   },
   "outputs": [],
   "source": [
    "# Change -1 values in 2nd_Road_Type to \"Not a junction\" if the \"Junction Detail\" columns let's us see that there was no junction\n",
    "crash_df.loc[(crash_df[\"路口详细信息 Junction_Detail\"] == 'Not at junction or within 20 metres 不在交汇处或20米范围内') & (crash_df[\"2级公路 2nd_Road_Class\"] == -1), '2级公路 2nd_Road_Class'] = '不在交汇处或20米范围内'  \n",
    "crash_df.loc[(crash_df[\"路口详细信息 Junction_Detail\"] == 'Other junction 其他岔路') & (crash_df[\"2级公路 2nd_Road_Class\"] == -1), '2级公路 2nd_Road_Class'] = '不在交汇处或20米范围内'  \n",
    "crash_df.loc[(crash_df[\"路口详细信息 Junction_Detail\"] == 'Private drive or entrance 私人车道或入口') & (crash_df[\"2级公路 2nd_Road_Class\"] == -1), '2级公路 2nd_Road_Class'] = '不在交汇处或20米范围内'  \n",
    "crash_df.loc[(crash_df[\"路口详细信息 Junction_Detail\"] == 'T or staggered junction T字路口汇合处') & (crash_df[\"2级公路 2nd_Road_Class\"] == -1), '2级公路 2nd_Road_Class'] = '不在交汇处或20米范围内'\n",
    "\n",
    "# Plot the value distriburion once more for the \"2nd_Road_Class\" column\n",
    "ax = sns.countplot(crash_df['2级公路 2nd_Road_Class'], palette=\"pastel\", edgecolor=\".6\")\n",
    "ax.set_xticklabels(ax.get_xticklabels(), rotation=40, ha=\"right\")\n",
    "plt.tight_layout()\n",
    "plt.show()"
   ]
  },
  {
   "cell_type": "markdown",
   "metadata": {
    "hideCode": false,
    "hidePrompt": false,
    "id": "IMpqq1sAQCbN"
   },
   "source": [
    "&emsp;\n",
    "\n",
    "很棒！现在我们已经完成了预处理工作，我们可以开始特征工程了。\n",
    "\n",
    "**小结:**\n",
    "\n",
    "1. 读取数据可能会出现格式问题。\n",
    "2. 大多数时候，需要分析数据集。\n",
    "3. 数据中会出现不匹配/错误现象；部分可以用常识解决。\n",
    "4. 不存在任何完美的数据集，除非是教科书中描述的理想状态。\n",
    "5. 引导数据科学家时，要意识到机器学习需要大量的数据清理/预算处理，这会占项目总耗时长的90%。"
   ]
  },
  {
   "cell_type": "markdown",
   "metadata": {
    "hideCode": false,
    "hidePrompt": false,
    "id": "r_6vE50g5ktT"
   },
   "source": [
    "**我们作为一名管理人员，所处在流程中的位置以及关键任务是:**\n",
    "\n",
    "![alt text](https://firebasestorage.googleapis.com/v0/b/heccoding.appspot.com/o/chinese_sustech%2FPicture5.png?alt=media&token=b775f03d-9edf-4112-8455-8edacc755779)"
   ]
  },
  {
   "cell_type": "markdown",
   "metadata": {
    "hideCode": false,
    "hidePrompt": false,
    "id": "odBmfJz1Gtrc"
   },
   "source": [
    "# 步骤3：特征工程/探索性数据分析(EDA)\n",
    "\n",
    "**我们处在流程中的这一步:**\n",
    "\n",
    "![alt text](https://firebasestorage.googleapis.com/v0/b/heccoding.appspot.com/o/chinese_sustech%2FPicture6.png?alt=media&token=1692ab82-67ef-495c-875d-1e5da20207d5)\n",
    "\n",
    "特征工程 / EDA是一种\n",
    "- 通过分析数据集并总结其主要特征。\n",
    "- 使用数据领域知识来促使机器学习算法工作的方法。\n",
    "\n",
    "&emsp;\n",
    "\n",
    "\"*特征的总结是困难的、耗时的，需要具备专业知识。应用机器学习基本上属于特征工程。*\"\n",
    "\n",
    "— Andrew Ng, 《模拟大脑进行机器学习人工智能》\n",
    "\n",
    "&emsp;"
   ]
  },
  {
   "cell_type": "markdown",
   "metadata": {
    "hideCode": false,
    "hidePrompt": false,
    "id": "YglNiNyY3eyF"
   },
   "source": [
    "## 3.1 目标变量"
   ]
  },
  {
   "cell_type": "markdown",
   "metadata": {
    "hideCode": false,
    "hidePrompt": false,
    "id": "UfMZCWLnPXza"
   },
   "source": [
    "我们先来看目标变量——碰撞事故的严重程度。\n",
    "我们会根据严重程度派遣不同类型的救护车。\n"
   ]
  },
  {
   "cell_type": "code",
   "execution_count": 25,
   "metadata": {
    "hideCode": true,
    "hidePrompt": false,
    "hide_input": false,
    "init_cell": true
   },
   "outputs": [
    {
     "data": {
      "application/vnd.jupyter.widget-view+json": {
       "model_id": "3dcb6030de19496fbf056b15e95e6c95",
       "version_major": 2,
       "version_minor": 0
      },
      "text/plain": [
       "Button(button_style='info', description='Run', style=ButtonStyle())"
      ]
     },
     "metadata": {},
     "output_type": "display_data"
    }
   ],
   "source": [
    "import ipywidgets as widgets\n",
    "from IPython.display import Javascript, display\n",
    "def run_all(ev):\n",
    "    display(Javascript(\"Jupyter.notebook.execute_cells([Jupyter.notebook.get_cell_elements().index(this.element.parents('.cell'))+1]);\"))\n",
    "button = widgets.Button(button_style='info',description=\"Run\")\n",
    "button.on_click(run_all)\n",
    "display(button)"
   ]
  },
  {
   "cell_type": "code",
   "execution_count": null,
   "metadata": {
    "hideCode": false,
    "hidePrompt": false,
    "id": "K1F_iw2EHMyS"
   },
   "outputs": [],
   "source": [
    "# 显示每个严重程度的次数\n",
    "ax = sns.countplot(crash_df['事故严重程度 Accident_Severity'], palette=\"pastel\", edgecolor=\".6\", order = crash_df[\"事故严重程度 Accident_Severity\"].value_counts().index)\n",
    "ax.set_xticklabels(ax.get_xticklabels(), rotation=40, ha=\"right\")\n",
    "plt.tight_layout()\n",
    "plt.show()"
   ]
  },
  {
   "cell_type": "markdown",
   "metadata": {
    "hideCode": false,
    "hidePrompt": false,
    "id": "9wyAPW2yhCQ3"
   },
   "source": [
    "&emsp;\n",
    "\n",
    "## 3.2 特征\n",
    "\n",
    "再往深一步看，现在我们来比较不同的预测变量(例如速度) 和目标变量 (在我们的案例中是指事故的严重程度)，看看是否存在（我们直觉地认为的）这两者之间的相关性、甚至因果关系。"
   ]
  },
  {
   "cell_type": "code",
   "execution_count": 26,
   "metadata": {
    "hideCode": true,
    "hidePrompt": false,
    "hide_input": false,
    "init_cell": true
   },
   "outputs": [
    {
     "data": {
      "application/vnd.jupyter.widget-view+json": {
       "model_id": "2aaa62843318442ebddbc865502027ab",
       "version_major": 2,
       "version_minor": 0
      },
      "text/plain": [
       "Button(button_style='info', description='Run', style=ButtonStyle())"
      ]
     },
     "metadata": {},
     "output_type": "display_data"
    }
   ],
   "source": [
    "import ipywidgets as widgets\n",
    "from IPython.display import Javascript, display\n",
    "def run_all(ev):\n",
    "    display(Javascript(\"Jupyter.notebook.execute_cells([Jupyter.notebook.get_cell_elements().index(this.element.parents('.cell'))+1]);\"))\n",
    "button = widgets.Button(button_style='info',description=\"Run\")\n",
    "button.on_click(run_all)\n",
    "display(button)"
   ]
  },
  {
   "cell_type": "code",
   "execution_count": null,
   "metadata": {
    "hideCode": false,
    "hidePrompt": false,
    "id": "aBLFmWVLxwjR"
   },
   "outputs": [],
   "source": [
    "feature_selector = widgets.Dropdown(\n",
    "    options=[\"速度限制 Speed_limit\", \"星期几 Day_of_Week\",\"1级公路 1st_Road_Class\",\"道路类型 Road_Type\", \"路口详细信息 Junction_Detail\", \"路口控制 Junction_Control\", \"路灯情况 Light_Conditions\", \"路面情况 Road_Surface_Conditions\", \"人行横道-物理设施 Pedestrian_Crossing-Physical_Facilities\", \"市区或郊区 Urban_or_Rural_Area\", \"警察是否到达事故现场 Did_Police_Officer_Attend_Scene_of_Accident\"],\n",
    "    description='特征 Feature:',\n",
    "    disabled=False,\n",
    ")\n",
    "\n",
    "crash_details = \"Speed_limit\"\n",
    "feature_selected = widgets.Output()\n",
    "\n",
    "def feature_selector_handler(change):\n",
    "    clear_output(wait=True)\n",
    "    feature_selected.clear_output()\n",
    "    display(feature_selector) \n",
    "    with feature_selected:\n",
    "        crash_details = feature_selector.value\n",
    "        accident_counts = (crash_df.groupby([crash_details])[\"事故严重程度 Accident_Severity\"]\n",
    "                             .value_counts(normalize=True)\n",
    "                             .rename('percentage')\n",
    "                             .mul(100)\n",
    "                             .reset_index()\n",
    "                             .sort_values(crash_details))\n",
    "        p = sns.barplot(x=\"事故严重程度 Accident_Severity\", y=\"percentage\", hue=crash_details, palette=\"pastel\", data=accident_counts, edgecolor=\".6\", order = crash_df[\"事故严重程度 Accident_Severity\"].value_counts().index)\n",
    "        p.legend(loc='center left', bbox_to_anchor=(1.25, 0.5), ncol=1)\n",
    "        p = plt.setp(p.get_xticklabels(), rotation=40) \n",
    "        \n",
    "feature_selector.observe(feature_selector_handler, names=\"value\")\n",
    "display(feature_selector) "
   ]
  },
  {
   "cell_type": "markdown",
   "metadata": {
    "hideCode": false,
    "hidePrompt": false,
    "id": "SfBam33mX31q"
   },
   "source": [
    "&emsp;\n",
    "\n",
    "**问题：提出自己的假设。首先，在超速驾驶、城乡差异、警察是否去过事故现场等原因中找出你直觉认为最准确的预测变量。?** \n",
    "\n",
    "**任务：现在我们希望你通过探索数据真实性以及确定最准确的事故原因来检验你的假设。** \n",
    "\n",
    "这时可以检验你的假设，找出最佳预测变量了。你可以在下面的代码中研究每个特性与目标变量的相关性。"
   ]
  },
  {
   "cell_type": "code",
   "execution_count": 27,
   "metadata": {
    "hideCode": true,
    "hidePrompt": false,
    "hide_input": false,
    "init_cell": true
   },
   "outputs": [
    {
     "data": {
      "application/vnd.jupyter.widget-view+json": {
       "model_id": "df3196872713444cbf71cff89ae9d9fc",
       "version_major": 2,
       "version_minor": 0
      },
      "text/plain": [
       "Button(button_style='info', description='Run', style=ButtonStyle())"
      ]
     },
     "metadata": {},
     "output_type": "display_data"
    }
   ],
   "source": [
    "import ipywidgets as widgets\n",
    "from IPython.display import Javascript, display\n",
    "def run_all(ev):\n",
    "    display(Javascript(\"Jupyter.notebook.execute_cells([Jupyter.notebook.get_cell_elements().index(this.element.parents('.cell'))+1]);\"))\n",
    "button = widgets.Button(button_style='info',description=\"Run\")\n",
    "button.on_click(run_all)\n",
    "display(button)"
   ]
  },
  {
   "cell_type": "code",
   "execution_count": null,
   "metadata": {
    "hideCode": false,
    "hidePrompt": false,
    "id": "UC3v01ZYW0hz"
   },
   "outputs": [],
   "source": [
    "feature_selector = widgets.Dropdown(\n",
    "    options=[\"速度限制 Speed_limit\", \"市区或郊区 Urban_or_Rural_Area\", \"警察是否到达事故现场 Did_Police_Officer_Attend_Scene_of_Accident\"],\n",
    "    description='特征 Feature:',\n",
    "    disabled=False,\n",
    ")\n",
    "\n",
    "crash_details = \"市区或郊区 Urban_or_Rural_Area\"\n",
    "feature_selected = widgets.Output()\n",
    "\n",
    "def feature_selector_handler_next(change):\n",
    "    clear_output(wait=True)\n",
    "    feature_selected.clear_output()\n",
    "    display(feature_selector) \n",
    "    with feature_selected:\n",
    "        crash_details = feature_selector.value\n",
    "        accident_counts = (crash_df.groupby([crash_details])[\"事故严重程度 Accident_Severity\"]\n",
    "                     .value_counts(normalize=True)\n",
    "                     .rename('percentage')\n",
    "                     .mul(100)\n",
    "                     .reset_index()\n",
    "                     .sort_values(crash_details))\n",
    "        p = sns.barplot(x=\"事故严重程度 Accident_Severity\", y=\"percentage\", hue=crash_details, palette=\"pastel\", data=accident_counts, edgecolor=\".6\", order = crash_df[\"事故严重程度 Accident_Severity\"].value_counts().index)\n",
    "        p.legend(loc='center left', bbox_to_anchor=(1.25, 0.5), ncol=1)\n",
    "        p = plt.setp(p.get_xticklabels(), rotation=40)  \n",
    "        \n",
    "feature_selector.observe(feature_selector_handler_next, names=\"value\")\n",
    "display(feature_selector) "
   ]
  },
  {
   "cell_type": "markdown",
   "metadata": {
    "hideCode": false,
    "hidePrompt": false,
    "id": "KMRzY9fs7Gya"
   },
   "source": [
    "\n",
    "\n",
    "&emsp;\n",
    "\n",
    "正如我们所看到的，肯定有更好的或者更差的特征用以预测我们的目标，但还没找到有足够说服力的特征。\n",
    "\n",
    "**问：你还能想到哪些在数据集中找不到的重要特征呢?**"
   ]
  },
  {
   "cell_type": "markdown",
   "metadata": {
    "hideCode": false,
    "hidePrompt": false,
    "id": "3YNxTiIK9fS6"
   },
   "source": [
    "\n",
    "&emsp;\n",
    "\n",
    "**学习要点:**\n",
    "1. 在分析过程中，总有可能出现其他的问题。\n",
    "2. 在没有指导性业务问题的情况下，分析数据需要耗费大量的时间。\n",
    "\n",
    "&emsp;\n",
    "\n",
    "**作为一名管理人员，我们处在流程中的哪个环节，目前的关键任务是什么:**\n",
    "\n",
    "![alt text](https://firebasestorage.googleapis.com/v0/b/heccoding.appspot.com/o/chinese_sustech%2FPicture7.png?alt=media&token=8fb537fc-4361-482a-9f3f-c9db5318f2ac)"
   ]
  },
  {
   "cell_type": "markdown",
   "metadata": {
    "hideCode": false,
    "hidePrompt": false,
    "id": "6pk-32_kIw9F"
   },
   "source": [
    "&emsp;\n",
    "\n",
    "**问题：还有一件事！我们的目标变量是什么？它和我们想要预测的结果有什么不同呢?**"
   ]
  },
  {
   "cell_type": "code",
   "execution_count": 28,
   "metadata": {
    "hideCode": true,
    "hidePrompt": false,
    "hide_input": false,
    "init_cell": true
   },
   "outputs": [
    {
     "data": {
      "application/vnd.jupyter.widget-view+json": {
       "model_id": "fb1696f8cb4247e2ad31f38e3d2df0fd",
       "version_major": 2,
       "version_minor": 0
      },
      "text/plain": [
       "Button(button_style='info', description='Run', style=ButtonStyle())"
      ]
     },
     "metadata": {},
     "output_type": "display_data"
    }
   ],
   "source": [
    "import ipywidgets as widgets\n",
    "from IPython.display import Javascript, display\n",
    "def run_all(ev):\n",
    "    display(Javascript(\"Jupyter.notebook.execute_cells([Jupyter.notebook.get_cell_elements().index(this.element.parents('.cell'))+1]);\"))\n",
    "button = widgets.Button(button_style='info',description=\"Run\")\n",
    "button.on_click(run_all)\n",
    "display(button)"
   ]
  },
  {
   "cell_type": "code",
   "execution_count": null,
   "metadata": {
    "hideCode": false,
    "hidePrompt": false,
    "id": "GtvgPG1ZFoui"
   },
   "outputs": [],
   "source": [
    "crash_df[\"事故严重程度 Accident_Severity\"].replace(\"Serious 严重的\", \"Fatal 致命的\", inplace=True,)"
   ]
  },
  {
   "cell_type": "markdown",
   "metadata": {
    "hideCode": false,
    "hidePrompt": false,
    "id": "_b1Od57J9ldJ"
   },
   "source": [
    "\n",
    "&emsp;\n",
    "\n",
    "# 步骤4：建模\n",
    "\n",
    "到目前为止，我们尚未开始机器学习，但已经为流程中的机器学习环节做好了准备。真正的机器学习只占总流程的很小部分。\n",
    "\n",
    "**当我们处于流程的这一步时:**\n",
    "\n",
    "![alt text](https://firebasestorage.googleapis.com/v0/b/heccoding.appspot.com/o/chinese_sustech%2FPicture8.png?alt=media&token=378cc173-0da7-456c-a392-6f6f1725edcf)\n"
   ]
  },
  {
   "cell_type": "markdown",
   "metadata": {
    "hideCode": false,
    "hidePrompt": false,
    "id": "o_BpBnsw0qlI"
   },
   "source": [
    "## 4.1 数据转换"
   ]
  },
  {
   "cell_type": "markdown",
   "metadata": {
    "hideCode": false,
    "hidePrompt": false,
    "id": "Z7e0z3cPBzvv"
   },
   "source": [
    "### 4.1.1 数据准备"
   ]
  },
  {
   "cell_type": "code",
   "execution_count": 29,
   "metadata": {
    "hideCode": true,
    "hidePrompt": false,
    "hide_input": false,
    "init_cell": true
   },
   "outputs": [
    {
     "data": {
      "application/vnd.jupyter.widget-view+json": {
       "model_id": "1b137d324dd84957b20934b583b42edb",
       "version_major": 2,
       "version_minor": 0
      },
      "text/plain": [
       "Button(button_style='info', description='Run', style=ButtonStyle())"
      ]
     },
     "metadata": {},
     "output_type": "display_data"
    }
   ],
   "source": [
    "import ipywidgets as widgets\n",
    "from IPython.display import Javascript, display\n",
    "def run_all(ev):\n",
    "    display(Javascript(\"Jupyter.notebook.execute_cells([Jupyter.notebook.get_cell_elements().index(this.element.parents('.cell'))+1]);\"))\n",
    "button = widgets.Button(button_style='info',description=\"Run\")\n",
    "button.on_click(run_all)\n",
    "display(button)"
   ]
  },
  {
   "cell_type": "code",
   "execution_count": null,
   "metadata": {
    "hideCode": false,
    "hidePrompt": false,
    "id": "3sQdVnIG-ULJ"
   },
   "outputs": [],
   "source": [
    "#OneHotEncoded: \"Day_of_Week\",\"1st_Road_Class\", \"2nd_Road_Class\",\"Road_Type\", \"Junction_Detail\", \"Junction_Control\", \"Light_Conditions\", \"Road_Surface_Conditions\", \"Pedestrian_Crossing-Human_Control\", \"Pedestrian_Crossing-Physical_Facilities\", \"Special_Conditions_at_Site\", \"Carriageway_Hazards\", \"Urban_or_Rural_Area\", \"Did_Police_Officer_Attend_Scene_of_Accident\"\n",
    "#crash_df = pd.get_dummies(crash_df, prefix=[\"Day_of_Week\",\"1st_Road_Class\", \"2nd_Road_Class\",\"Road_Type\", \"Junction_Detail\", \"Junction_Control\", \"Light_Conditions\", \"Road_Surface_Conditions\", \"Pedestrian_Crossing-Physical_Facilities\", \"Urban_or_Rural_Area\", \"Did_Police_Officer_Attend_Scene_of_Accident\", \"Weather_Conditions\"], columns=[\"Day_of_Week\",\"1st_Road_Class\", \"2nd_Road_Class\",\"Road_Type\", \"Junction_Detail\", \"Junction_Control\", \"Light_Conditions\", \"Road_Surface_Conditions\", \"Pedestrian_Crossing-Physical_Facilities\", \"Urban_or_Rural_Area\", \"Did_Police_Officer_Attend_Scene_of_Accident\", \"Weather_Conditions\"])\n",
    "\n",
    "#Categorize Strings: Accident_Severity\n",
    "#le = LabelEncoder()\n",
    "#crash_df['Accident_Severity'] = le.fit_transform(crash_df['Accident_Severity'].tolist())\n",
    "\n",
    "# Normalize nunerical values - squeeze them between range 0 and 1\n",
    "#scaler = MinMaxScaler()\n",
    "#scaler.fit(crash_df[[\"Speed_limit\", \"Number_of_Vehicles\", \"Number_of_Casualties\"]])\n",
    "#crash_df[[\"Speed_limit\", \"Number_of_Vehicles\", \"Number_of_Casualties\"]] = scaler.transform(crash_df[[\"Speed_limit\", \"Number_of_Vehicles\", \"Number_of_Casualties\"]])\n",
    "\n",
    "# Sperate dataset into predictors and target set\n",
    "#y = crash_df[\"Accident_Severity\"]\n",
    "#X = crash_df.drop(columns=['Accident_Severity'])\n",
    "X = pd.read_csv('Quantgeist/X.csv')\n",
    "y = pd.read_csv('Quantgeist/y.csv')\n",
    "X.columns =['汽车数量 Number_of_Vehicles', ' 伤员数量 Number_of_Casualties', '速度限制 Speed_limit', '星期几 Day_of_Week_1', '星期几 Day_of_Week_2', '星期几 Day_of_Week_3', '星期几 Day_of_Week_4', '星期几 Day_of_Week_5', '星期几 Day_of_Week_6', '星期几 Day_of_Week_7', '1级公路 1st_Road_Class_1', '1级公路 1st_Road_Class_2', '1级公路 1st_Road_Class_3', '1级公路 1st_Road_Class_4', '1级公路 1st_Road_Class_5', '1级公路 1st_Road_Class_6', '2级公路 2nd_Road_Class_-1', '2级公路 2nd_Road_Class_1', '2级公路 2nd_Road_Class_2', '2级公路 2nd_Road_Class_3', '2级公路 2nd_Road_Class_4', '2级公路 2nd_Road_Class_5', '2级公路 2nd_Road_Class_6', '道路类型 Road_Type_1', '道路类型 Road_Type_2', '道路类型 Road_Type_3', '道路类型 Road_Type_6', '道路类型 Road_Type_7', '道路类型 Road_Type_9', '路口详细信息 Junction_Detail_-1', '路口详细信息 Junction_Detail_0', '路口详细信息 Junction_Detail_1', '路口详细信息 Junction_Detail_2', '路口详细信息 Junction_Detail_3', '路口详细信息 Junction_Detail_5', '路口详细信息 Junction_Detail_6', '路口详细信息 Junction_Detail_7', '路口详细信息 Junction_Detail_8', '路口详细信息 Junction_Detail_9', '路口控制 Junction_Control_-1', '路口控制 Junction_Control_1', '路口控制 Junction_Control_2', '路口控制 Junction_Control_3', '路口控制 Junction_Control_4', '路灯情况 Light_Conditions_-1', '路灯情况 Light_Conditions_1', '路灯情况 Light_Conditions_4', '路灯情况 Light_Conditions_5', '路灯情况 Light_Conditions_6', '路灯情况 Light_Conditions_7', '路面情况 Road_Surface_Conditions_-1', '路面情况 Road_Surface_Conditions_1', '路面情况 Road_Surface_Conditions_2', '路面情况 Road_Surface_Conditions_3', '路面情况 Road_Surface_Conditions_4', '路面情况 Road_Surface_Conditions_5', '人行横道-物理设施 Pedestrian_Crossing-Physical_Facilities_-1', '人行横道-物理设施 Pedestrian_Crossing-Physical_Facilities_0', '人行横道-物理设施 Pedestrian_Crossing-Physical_Facilities_1', '人行横道-物理设施 Pedestrian_Crossing-Physical_Facilities_4', '人行横道-物理设施 Pedestrian_Crossing-Physical_Facilities_5', '人行横道-物理设施 Pedestrian_Crossing-Physical_Facilities_7', '人行横道-物理设施 Pedestrian_Crossing-Physical_Facilities_8', '市区或郊区 Urban_or_Rural_Area_1', '市区或郊区 Urban_or_Rural_Area_2', '市区或郊区 Urban_or_Rural_Area_3', '警察是否到达事故现场 Did_Police_Officer_Attend_Scene_of_Accident_1', '警察是否到达事故现场 Did_Police_Officer_Attend_Scene_of_Accident_2', '警察是否到达事故现场 Did_Police_Officer_Attend_Scene_of_Accident_3', '天气情况 Weather_Conditions_-1', '天气情况 Weather_Conditions_1', '天气情况 Weather_Conditions_2', '天气情况 Weather_Conditions_3', '天气情况 Weather_Conditions_4', '天气情况 Weather_Conditions_5', '天气情况 Weather_Conditions_6', '天气情况 Weather_Conditions_7', '天气情况 Weather_Conditions_8', '天气情况 Weather_Conditions_9']\n",
    "y.columns = ['事故严重程度 Accident_Severity']\n",
    "X_colnames = list(X.columns)\n",
    "\n",
    "# Oversample\n",
    "#sm = SMOTE(random_state=42)\n",
    "#X, y = sm.fit_resample(X, y)"
   ]
  },
  {
   "cell_type": "markdown",
   "metadata": {
    "hideCode": false,
    "hidePrompt": false,
    "id": "u3RQD1ToH5Pg"
   },
   "source": [
    "\n",
    "1.   **变量编码**\n",
    "\n",
    "编码是指将分类变量转换为二进制或数字对应变量。\n",
    "\n",
    "2.  **特征缩放**\n",
    "\n",
    "大多数机器学习算法在计算中会使用两个数据点之间的欧几里德距离。由于我们的特征在量级、单位和范围上有所不同，因此不同单位下得出的结果会有很大差异。\n",
    "\n",
    "在我们的使用案例中，Number_of_Vehicles 的范围是 1 到 23，而变量 Speed_limit 的范围是 20 到 90。在计算过程中，高量级的特征比低量级的特征权重大得多。\n",
    "\n",
    "有几种方法可以处理特征缩放，例如正常化和标准化。 我们将使用一个简单的 MinMax 缩放来压缩 0 到 1 范围内的所有数值特征。\n",
    "\n",
    "\n",
    "\n",
    "3.   **平衡数据集**\n",
    "\n",
    "由于我们拥有的严重或致命性事故严重程度的数据点（仅 18%）比轻微严重程度的数据点少得多，因此将所有车祸预测为轻微严重事故的模型已经达到 82% 的精确率。这点我们将在后面的模型评估部分作详细介绍。\n",
    "\n",
    "\n"
   ]
  },
  {
   "cell_type": "markdown",
   "metadata": {
    "hideCode": false,
    "hidePrompt": false,
    "id": "drUKSW3CNMwR"
   },
   "source": [
    "\n",
    "&emsp;\n",
    "\n",
    "### 4.1.2 训练测试拆分\n",
    "\n",
    "机器学习的黄金法则: **永远不要在测试数据上训练模型。**. 很遗憾，只有少数人足够严格地遵守这一点。你通常应该保留 20% 的数据用于测试。\n",
    "![alt text](https://firebasestorage.googleapis.com/v0/b/heccoding.appspot.com/o/chinese_sustech%2Fch_train_test.png?alt=media&token=ee87ea30-8e45-45c2-8964-46fe8c1dff4b)"
   ]
  },
  {
   "cell_type": "code",
   "execution_count": 30,
   "metadata": {
    "hideCode": true,
    "hidePrompt": false,
    "hide_input": false,
    "init_cell": true
   },
   "outputs": [
    {
     "data": {
      "application/vnd.jupyter.widget-view+json": {
       "model_id": "a209422670214f03a50ebbf6f4d16271",
       "version_major": 2,
       "version_minor": 0
      },
      "text/plain": [
       "Button(button_style='info', description='Run', style=ButtonStyle())"
      ]
     },
     "metadata": {},
     "output_type": "display_data"
    }
   ],
   "source": [
    "import ipywidgets as widgets\n",
    "from IPython.display import Javascript, display\n",
    "def run_all(ev):\n",
    "    display(Javascript(\"Jupyter.notebook.execute_cells([Jupyter.notebook.get_cell_elements().index(this.element.parents('.cell'))+1]);\"))\n",
    "button = widgets.Button(button_style='info',description=\"Run\")\n",
    "button.on_click(run_all)\n",
    "display(button)"
   ]
  },
  {
   "cell_type": "code",
   "execution_count": null,
   "metadata": {
    "hideCode": false,
    "hidePrompt": false,
    "id": "9_5i2riYGLwi"
   },
   "outputs": [],
   "source": [
    "# Split data 80:20 in traing, test data\n",
    "sss = StratifiedShuffleSplit(n_splits=4, test_size=0.2, random_state=1)\n",
    "for train_index, test_index in sss.split(X, y):\n",
    "    X_train, X_test = X.loc[train_index], X.loc[test_index]\n",
    "    y_train, y_test = y.loc[train_index], y.loc[test_index]"
   ]
  },
  {
   "cell_type": "markdown",
   "metadata": {
    "hideCode": false,
    "hidePrompt": false,
    "id": "WDXT0IPPNZub"
   },
   "source": [
    "\n",
    "&emsp;\n",
    "\n",
    "## 4.2 建模\n",
    "\n",
    "在本章，我们会比较不同的机器学习算法。为此我们在同样的数据上建立以及训练不同的算法。"
   ]
  },
  {
   "cell_type": "markdown",
   "metadata": {
    "hideCode": false,
    "hidePrompt": false,
    "id": "ML-g27QfmRYj"
   },
   "source": [
    "&emsp;\n",
    "\n",
    "### 4.2.1 深度神经网络"
   ]
  },
  {
   "cell_type": "code",
   "execution_count": 31,
   "metadata": {
    "hideCode": true,
    "hidePrompt": false,
    "hide_input": false,
    "init_cell": true
   },
   "outputs": [
    {
     "data": {
      "application/vnd.jupyter.widget-view+json": {
       "model_id": "c853c94f4c5245939ae8f4c409d9e4c6",
       "version_major": 2,
       "version_minor": 0
      },
      "text/plain": [
       "Button(button_style='info', description='Run', style=ButtonStyle())"
      ]
     },
     "metadata": {},
     "output_type": "display_data"
    }
   ],
   "source": [
    "import ipywidgets as widgets\n",
    "from IPython.display import Javascript, display\n",
    "def run_all(ev):\n",
    "    display(Javascript(\"Jupyter.notebook.execute_cells([Jupyter.notebook.get_cell_elements().index(this.element.parents('.cell'))+1]);\"))\n",
    "button = widgets.Button(button_style='info',description=\"Run\")\n",
    "button.on_click(run_all)\n",
    "display(button)"
   ]
  },
  {
   "cell_type": "code",
   "execution_count": null,
   "metadata": {
    "hideCode": false,
    "hidePrompt": false,
    "id": "E9zVFZuKmXG0"
   },
   "outputs": [],
   "source": [
    "# Set up and train model\n",
    "model = Sequential()\n",
    "model.add(Dense(90,input_shape=(79,)))\n",
    "model.add(Dropout(0.3))\n",
    "model.add(Activation('relu'))\n",
    "model.add(Dense(32))\n",
    "model.add(Dropout(0.3))\n",
    "model.add(Activation('relu'))\n",
    "model.add(Dense(1))\n",
    "model.add(Activation('sigmoid'))\n",
    "model.compile(loss='binary_crossentropy', optimizer='adam', metrics=['acc', ])\n",
    "\n",
    "model.fit(X_train, y_train ,batch_size=128,epochs=25,validation_split=0.2)"
   ]
  },
  {
   "cell_type": "markdown",
   "metadata": {
    "hideCode": false,
    "hidePrompt": false,
    "id": "kekoSkFmNik_"
   },
   "source": [
    "\n",
    "&emsp;\n",
    "\n",
    "### 4.2.2 随机森林\n",
    "\n"
   ]
  },
  {
   "cell_type": "markdown",
   "metadata": {
    "hideCode": false,
    "hidePrompt": false,
    "id": "nbIokzYbdf9d"
   },
   "source": [
    "首先，我们用参数来设置算法。"
   ]
  },
  {
   "cell_type": "code",
   "execution_count": 32,
   "metadata": {
    "hideCode": true,
    "hidePrompt": false,
    "hide_input": false,
    "init_cell": true
   },
   "outputs": [
    {
     "data": {
      "application/vnd.jupyter.widget-view+json": {
       "model_id": "93f89884679b417d971dd272ff6941c3",
       "version_major": 2,
       "version_minor": 0
      },
      "text/plain": [
       "Button(button_style='info', description='Run', style=ButtonStyle())"
      ]
     },
     "metadata": {},
     "output_type": "display_data"
    }
   ],
   "source": [
    "import ipywidgets as widgets\n",
    "from IPython.display import Javascript, display\n",
    "def run_all(ev):\n",
    "    display(Javascript(\"Jupyter.notebook.execute_cells([Jupyter.notebook.get_cell_elements().index(this.element.parents('.cell'))+1]);\"))\n",
    "button = widgets.Button(button_style='info',description=\"Run\")\n",
    "button.on_click(run_all)\n",
    "display(button)"
   ]
  },
  {
   "cell_type": "code",
   "execution_count": null,
   "metadata": {
    "hideCode": false,
    "hidePrompt": false,
    "id": "j2eLdMEZQo0M"
   },
   "outputs": [],
   "source": [
    "# Set up\n",
    "rf = RandomForestClassifier(verbose=2, random_state=42, n_jobs = -1, class_weight=\"balanced_subsample\", n_estimators=100, max_depth=None, min_samples_split=2, min_samples_leaf=1, bootstrap=True, max_features=\"auto\")"
   ]
  },
  {
   "cell_type": "markdown",
   "metadata": {
    "hideCode": false,
    "hidePrompt": false,
    "id": "WkRHGAhPdo8N"
   },
   "source": [
    "&emsp;\n",
    "\n",
    "**任务：我们希望你通过写代码给机器学习建模，请敲入python代码进行机器学习模型训练。这个案例中使用随机森林。你可以回看我们在神经网络（Neural Network）上的操作来获得一些提示。你正在调用的库叫rf（random forest的缩写，你需要用到的方法是fit()。你会发现这跟你初次挑战编程时使用的语法逻辑是吻合的。**"
   ]
  },
  {
   "cell_type": "code",
   "execution_count": 33,
   "metadata": {
    "hideCode": true,
    "hidePrompt": false,
    "hide_input": false,
    "init_cell": true
   },
   "outputs": [
    {
     "data": {
      "application/vnd.jupyter.widget-view+json": {
       "model_id": "d9c5ebfb80ba4078aee5e7924d537e6d",
       "version_major": 2,
       "version_minor": 0
      },
      "text/plain": [
       "Button(button_style='info', description='Run', style=ButtonStyle())"
      ]
     },
     "metadata": {},
     "output_type": "display_data"
    }
   ],
   "source": [
    "import ipywidgets as widgets\n",
    "from IPython.display import Javascript, display\n",
    "def run_all(ev):\n",
    "    display(Javascript(\"Jupyter.notebook.execute_cells([Jupyter.notebook.get_cell_elements().index(this.element.parents('.cell'))+1]);\"))\n",
    "button = widgets.Button(button_style='info',description=\"Run\")\n",
    "button.on_click(run_all)\n",
    "display(button)"
   ]
  },
  {
   "cell_type": "code",
   "execution_count": null,
   "metadata": {
    "hideCode": false,
    "hidePrompt": false,
    "id": "zZw9lWzpeRdx"
   },
   "outputs": [],
   "source": [
    "#Your code goes here\n",
    "trained_rf = rf."
   ]
  },
  {
   "cell_type": "markdown",
   "metadata": {
    "hideCode": false,
    "hidePrompt": false,
    "id": "lWFe_StZHIb6"
   },
   "source": [
    "**我们在下面的流程中所处的位置:**\n",
    "\n",
    "![alt text](https://firebasestorage.googleapis.com/v0/b/heccoding.appspot.com/o/chinese_sustech%2FPicture9.png?alt=media&token=64ea81b4-bc08-4204-af61-604a8c6c75e1)"
   ]
  },
  {
   "cell_type": "markdown",
   "metadata": {
    "hideCode": false,
    "hidePrompt": false,
    "id": "LwMVXk4_QAcM"
   },
   "source": [
    "\n",
    "&emsp;\n",
    "\n",
    "# 步骤5：评估模型\n",
    "\n",
    "**我们在下面的流程中所处的位置:**\n",
    "![alt text](https://firebasestorage.googleapis.com/v0/b/heccoding.appspot.com/o/chinese_sustech%2FPicture10.png?alt=media&token=e49784f6-eb3f-4e74-9ce2-6c8f4bad92e2)\n",
    "\n",
    "现在我们来通过评估误差来对比一下模组的实际表现。\n"
   ]
  },
  {
   "cell_type": "markdown",
   "metadata": {
    "hideCode": false,
    "hidePrompt": false,
    "id": "GZG06ZX_DIcZ"
   },
   "source": [
    "&emsp;\n",
    "\n",
    "### 5.1 矩阵"
   ]
  },
  {
   "cell_type": "code",
   "execution_count": 34,
   "metadata": {
    "hideCode": true,
    "hidePrompt": false,
    "hide_input": false,
    "init_cell": true
   },
   "outputs": [
    {
     "data": {
      "application/vnd.jupyter.widget-view+json": {
       "model_id": "a2520724dd6549a2b91930e78334369e",
       "version_major": 2,
       "version_minor": 0
      },
      "text/plain": [
       "Button(button_style='info', description='Run', style=ButtonStyle())"
      ]
     },
     "metadata": {},
     "output_type": "display_data"
    }
   ],
   "source": [
    "import ipywidgets as widgets\n",
    "from IPython.display import Javascript, display\n",
    "def run_all(ev):\n",
    "    display(Javascript(\"Jupyter.notebook.execute_cells([Jupyter.notebook.get_cell_elements().index(this.element.parents('.cell'))+1]);\"))\n",
    "button = widgets.Button(button_style='info',description=\"Run\")\n",
    "button.on_click(run_all)\n",
    "display(button)"
   ]
  },
  {
   "cell_type": "code",
   "execution_count": null,
   "metadata": {
    "hideCode": false,
    "hidePrompt": false,
    "id": "B7oIz7xTrVSd"
   },
   "outputs": [],
   "source": [
    "#Performances on test data\n",
    "def get_measures(y_true, y_pred, th=0.5):\n",
    "  yhat_classes = np.where(y_pred > th, 1, 0)\n",
    "  acc = metrics.accuracy_score(y_true, yhat_classes)\n",
    "  bal_acc = metrics.balanced_accuracy_score(y_true, yhat_classes)\n",
    "  sen = metrics.recall_score(y_true, yhat_classes) \n",
    "  f1 = metrics.f1_score(y_true, yhat_classes)\n",
    "  return [acc, bal_acc, sen, f1]\n",
    "\n",
    "#Run model on test data\n",
    "y_nn = model.predict(X_test)\n",
    "y_rf = rf.predict(X_test)\n",
    "\n",
    "dataset = \"Test\"  \n",
    "overall_peformance_df = pd.DataFrame(columns=['model', 'dataset', 'accuracy', 'balanced accuracy', 'sensitivity','F1'])\n",
    "overall_peformance_df.loc[len(overall_peformance_df)] = ['深度神经网络 Neural network', dataset] + get_measures(y_test, y_nn)\n",
    "overall_peformance_df.loc[len(overall_peformance_df)] = ['随机森林 Random Forest', dataset] + get_measures(y_test, y_rf)\n",
    "overall_peformance_df"
   ]
  },
  {
   "cell_type": "markdown",
   "metadata": {
    "hideCode": false,
    "hidePrompt": false,
    "id": "GENe6iAXvN4j"
   },
   "source": [
    "\n",
    "&emsp;\n",
    "\n",
    "这时我们可以选出优胜方了吗?我们再来具体看看每个模组的混淆矩阵。\n",
    "![alt text](https://firebasestorage.googleapis.com/v0/b/heccoding.appspot.com/o/chinese_sustech%2Fch_conf.png?alt=media&token=ab872303-1e2a-405d-91e2-b7e5686d14cb)"
   ]
  },
  {
   "cell_type": "code",
   "execution_count": 35,
   "metadata": {
    "hideCode": true,
    "hidePrompt": false,
    "hide_input": false,
    "init_cell": true
   },
   "outputs": [
    {
     "data": {
      "application/vnd.jupyter.widget-view+json": {
       "model_id": "2523d99beb9a4bf792f93cb256ddf985",
       "version_major": 2,
       "version_minor": 0
      },
      "text/plain": [
       "Button(button_style='info', description='Run', style=ButtonStyle())"
      ]
     },
     "metadata": {},
     "output_type": "display_data"
    }
   ],
   "source": [
    "import ipywidgets as widgets\n",
    "from IPython.display import Javascript, display\n",
    "def run_all(ev):\n",
    "    display(Javascript(\"Jupyter.notebook.execute_cells([Jupyter.notebook.get_cell_elements().index(this.element.parents('.cell'))+1]);\"))\n",
    "button = widgets.Button(button_style='info',description=\"Run\")\n",
    "button.on_click(run_all)\n",
    "display(button)"
   ]
  },
  {
   "cell_type": "code",
   "execution_count": null,
   "metadata": {
    "hideCode": false,
    "hidePrompt": false,
    "id": "vrBdyqAPyROO"
   },
   "outputs": [],
   "source": [
    "# print confusion matrix\n",
    "#@title After running this cell manually, it will auto-run if you change the selected value. { run: \"auto\" }\n",
    "\n",
    "model_details = \"Random Forest\" #@param [\"Deep Neural Network\", \"Random Forest\"]\n",
    "if model_details == \"Deep Neural Network\":\n",
    "  model_pred = y_nn\n",
    "else:\n",
    "  model_pred = y_rf\n",
    "model_pred = model_pred.round()\n",
    "\n",
    "print(\" Confusion matrix \\n\", metrics.confusion_matrix(y_test, model_pred))"
   ]
  },
  {
   "cell_type": "markdown",
   "metadata": {
    "hideCode": false,
    "hidePrompt": false,
    "id": "EeqlJ92tz8Vg"
   },
   "source": [
    "\n",
    "&emsp;\n",
    "\n",
    "**问题：哪些模组创建得更好?是深度神经网络（Deep Neural Network）还是随机森林（Random Forest）呢?**"
   ]
  },
  {
   "cell_type": "markdown",
   "metadata": {
    "hideCode": false,
    "hidePrompt": false,
    "id": "qHJ4r7Eah3Lc"
   },
   "source": [
    "\n",
    "&emsp;\n",
    "\n",
    "现在我们来进一步理解一下模型学到了什么。尽管我们无法看到模型是如何准确地得出预测的，但我们可以看到模型得出的最重要特征。 因此，我们检验一下你在开始时选择问题中的最佳预测变量是否正确。\n"
   ]
  },
  {
   "cell_type": "code",
   "execution_count": 36,
   "metadata": {
    "hideCode": true,
    "hidePrompt": false,
    "hide_input": false,
    "init_cell": true
   },
   "outputs": [
    {
     "data": {
      "application/vnd.jupyter.widget-view+json": {
       "model_id": "8a2ee2213c814b6dbe8d9bbaaddb06ff",
       "version_major": 2,
       "version_minor": 0
      },
      "text/plain": [
       "Button(button_style='info', description='Run', style=ButtonStyle())"
      ]
     },
     "metadata": {},
     "output_type": "display_data"
    }
   ],
   "source": [
    "import ipywidgets as widgets\n",
    "from IPython.display import Javascript, display\n",
    "def run_all(ev):\n",
    "    display(Javascript(\"Jupyter.notebook.execute_cells([Jupyter.notebook.get_cell_elements().index(this.element.parents('.cell'))+1]);\"))\n",
    "button = widgets.Button(button_style='info',description=\"Run\")\n",
    "button.on_click(run_all)\n",
    "display(button)"
   ]
  },
  {
   "cell_type": "code",
   "execution_count": null,
   "metadata": {
    "hideCode": false,
    "hidePrompt": false,
    "id": "WQ3TNSyyiUtQ"
   },
   "outputs": [],
   "source": [
    "feat_importances = pd.Series(rf.feature_importances_, index=X_colnames)\n",
    "feat_importances.nlargest(10).plot(kind='barh')\n",
    "#feat_importances.nsmallest(10).plot(kind='barh')"
   ]
  },
  {
   "cell_type": "markdown",
   "metadata": {
    "hideCode": false,
    "hidePrompt": false,
    "id": "DvTqJeDSjHtq"
   },
   "source": [
    "\n",
    "&emsp;\n",
    "\n",
    "我们可以看到对模组得出的最重要的特征是和我们的直觉是吻合的。这标志着模组已经学到有用的知识了。因此，例如Did_Police_Officer_Attend_Scene_of_Accident_No就是重要特征之一。\n",
    "\n",
    "\n",
    "&emsp;\n",
    "\n",
    "等一下。 **问题来了：这种特征有什么好处呢?**"
   ]
  },
  {
   "cell_type": "markdown",
   "metadata": {
    "hideCode": false,
    "hidePrompt": false,
    "id": "aAK_1dEIoDeO"
   },
   "source": [
    "\n",
    "我们在作预测时，也就是接到紧急呼叫时，还不存在这些信息，这就意味着我们不\n",
    "可以将此特征用作预测变量！这是必备的专业知识，因此管理人员的任务是发现这个错误。\n",
    "\n",
    "通常，我们必须在开始时就忽略这个特征并重新执行整个流程。\n"
   ]
  },
  {
   "cell_type": "markdown",
   "metadata": {
    "hideCode": false,
    "hidePrompt": false,
    "id": "yIrl4CDTDRYD"
   },
   "source": [
    "\n",
    "&emsp;\n",
    "\n",
    "### 5.2 最终决策\n",
    "\n",
    "**问题：比真实矩阵更重要的是：这个模型是否可以运用到实际业务中?**\n",
    "\n",
    "答案取决于我们的底线，目前用来判断该派遣哪辆救护车的流程以及该流程的优劣性。"
   ]
  },
  {
   "cell_type": "markdown",
   "metadata": {
    "hideCode": false,
    "hidePrompt": false,
    "id": "OPQTMGQVHZvh"
   },
   "source": [
    "**作为一名管理人员，我们处在流程中的哪个环节，目前的关键任务是什么:**\n",
    "![alt text](https://firebasestorage.googleapis.com/v0/b/heccoding.appspot.com/o/chinese_sustech%2FPicture11.png?alt=media&token=e74a486c-7dcb-4189-99b4-5c3a0cd38e53)"
   ]
  }
 ],
 "metadata": {
  "colab": {
   "collapsed_sections": [],
   "name": "Data_for_Managers.ipynb",
   "private_outputs": true,
   "provenance": []
  },
  "hide_code_all_hidden": false,
  "kernelspec": {
   "display_name": "Python 3 (ipykernel)",
   "language": "python",
   "name": "python3"
  },
  "language_info": {
   "codemirror_mode": {
    "name": "ipython",
    "version": 3
   },
   "file_extension": ".py",
   "mimetype": "text/x-python",
   "name": "python",
   "nbconvert_exporter": "python",
   "pygments_lexer": "ipython3",
   "version": "3.8.0"
  }
 },
 "nbformat": 4,
 "nbformat_minor": 1
}
